{
  "nbformat": 4,
  "nbformat_minor": 0,
  "metadata": {
    "colab": {
      "name": "Udacity A/B testing-Final project.ipynb",
      "provenance": [],
      "collapsed_sections": []
    },
    "kernelspec": {
      "name": "python3",
      "display_name": "Python 3"
    }
  },
  "cells": [
    {
      "cell_type": "code",
      "metadata": {
        "id": "x5EQ23CbxEQ8",
        "colab_type": "code",
        "colab": {}
      },
      "source": [
        "import pandas as pd\n",
        "import numpy as np\n",
        "import matplotlib.pyplot as plt\n",
        "import seaborn as sns\n",
        "\n",
        "import math"
      ],
      "execution_count": 196,
      "outputs": []
    },
    {
      "cell_type": "code",
      "metadata": {
        "id": "8WmmJDygnflK",
        "colab_type": "code",
        "colab": {}
      },
      "source": [
        "### step1: choosing invariant metrics: pageviews, clicks, click_through_probability"
      ],
      "execution_count": null,
      "outputs": []
    },
    {
      "cell_type": "code",
      "metadata": {
        "id": "OfCSw5XPaAfW",
        "colab_type": "code",
        "colab": {}
      },
      "source": [
        "### step2:analytical estimation of standard deviation for evaluation metrics before experiment ###"
      ],
      "execution_count": null,
      "outputs": []
    },
    {
      "cell_type": "code",
      "metadata": {
        "id": "t0LtSVRdiriF",
        "colab_type": "code",
        "colab": {}
      },
      "source": [
        "# input baseline data #\n",
        "\n",
        "# Unique cookies to view course overview page per day =\n",
        "pageview= 40000\n",
        "\n",
        "# Unique cookies to click \"Start free trial\" per day \n",
        "clicks= 3200\n",
        "\n",
        "# Enrollments per day\n",
        "enroll=660\n",
        "\n",
        "#Click-through-probability on \"Start free trial\"\n",
        "ctp=0.08\n",
        "\n",
        "#Probability of enrolling, given click \n",
        "enroll_prob=0.20625\n",
        "\n",
        "#Probability of payment, given enroll \n",
        "payment_enroll_prob=0.53\n",
        "\n",
        "#Probability of payment, given click\n",
        "payment_clicks_prob=0.1093125\n",
        "\n",
        "# sample_size for analytical analysis before real experiment data\n",
        "sample = 5000 # unit: pageviews"
      ],
      "execution_count": null,
      "outputs": []
    },
    {
      "cell_type": "code",
      "metadata": {
        "id": "PdG_lLkTn-s7",
        "colab_type": "code",
        "colab": {}
      },
      "source": [
        "## evaluation metrics\n",
        "gross_conversion = round(enroll/clicks,4) # gross_conversion = enroll/clicks\n",
        "retention = round(payment_enroll_prob,4) # retention = payment/enroll\n",
        "net_conversion = round(payment_clicks_prob,4) # net_conversion = payment/clicks"
      ],
      "execution_count": null,
      "outputs": []
    },
    {
      "cell_type": "code",
      "metadata": {
        "id": "_DQ9gmnDrDDI",
        "colab_type": "code",
        "colab": {
          "base_uri": "https://localhost:8080/",
          "height": 90
        },
        "outputId": "3c778716-7652-4f7f-9095-b2069c47d41a"
      },
      "source": [
        "print('gross conversion baseline rate', gross_conversion)\n",
        "print('retention baseline rate', retention)\n",
        "print('net conversion baseline rate', net_conversion)"
      ],
      "execution_count": null,
      "outputs": [
        {
          "output_type": "stream",
          "text": [
            "gross conversion baseline rate 0.2062\n",
            "retention baseline rate 0.53\n",
            "net conversion baseline rate 0.1093\n"
          ],
          "name": "stdout"
        }
      ]
    },
    {
      "cell_type": "code",
      "metadata": {
        "id": "sAcE8XL-qUAy",
        "colab_type": "code",
        "colab": {}
      },
      "source": [
        "# calculating unit of analysis\n",
        "clicks_gross=clicks*sample/pageview\n",
        "enroll_retention=payment*sample/pageview\n",
        "clicks_net=clicks*sample/pageview"
      ],
      "execution_count": null,
      "outputs": []
    },
    {
      "cell_type": "code",
      "metadata": {
        "id": "QYlIQzA3maiX",
        "colab_type": "code",
        "colab": {}
      },
      "source": [
        "# calculate std for the three evaluation metrics, all the three evaluation metrics follow binomial distribution\n",
        "\n",
        "std_gross_conversion= round(math.sqrt(gross_conversion*(1-gross_conversion)/clicks_gross),4)\n",
        "std_retention=round(math.sqrt(retention*(1-retention)/enroll_retention),4)\n",
        "std_net_conversion= round(math.sqrt(net_conversion*(1-net_conversion)/clicks_net),4)"
      ],
      "execution_count": null,
      "outputs": []
    },
    {
      "cell_type": "code",
      "metadata": {
        "id": "h0md53I1wASw",
        "colab_type": "code",
        "colab": {
          "base_uri": "https://localhost:8080/",
          "height": 90
        },
        "outputId": "51f2f7cb-02db-4b40-b495-e49dc5d38f14"
      },
      "source": [
        "print('std of gross_conversion baseline',std_gross_conversion)\n",
        "print('std of retention baseline',std_retention)\n",
        "print('std of net_conversion baseline',std_net_conversion)"
      ],
      "execution_count": 209,
      "outputs": [
        {
          "output_type": "stream",
          "text": [
            "std of gross_conversion baseline 0.0202\n",
            "std of retention baseline 0.0549\n",
            "std of net_conversion baseline 0.0156\n"
          ],
          "name": "stdout"
        }
      ]
    },
    {
      "cell_type": "code",
      "metadata": {
        "id": "r7n-IEBDyvFs",
        "colab_type": "code",
        "colab": {}
      },
      "source": [
        "### step3: sizing"
      ],
      "execution_count": null,
      "outputs": []
    },
    {
      "cell_type": "code",
      "metadata": {
        "id": "3jnsfUCAzFof",
        "colab_type": "code",
        "colab": {}
      },
      "source": [
        "# estimate pageview numbers needed \n",
        "# using sample size estimator: https://www.evanmiller.org/ab-testing/sample-size.html"
      ],
      "execution_count": null,
      "outputs": []
    },
    {
      "cell_type": "code",
      "metadata": {
        "id": "1gc7Zwd7zQKy",
        "colab_type": "code",
        "colab": {}
      },
      "source": [
        "clicks_gross_sample=25835\n",
        "users_retention_sample=39115\n",
        "clicks_net_sample=27413"
      ],
      "execution_count": null,
      "outputs": []
    },
    {
      "cell_type": "code",
      "metadata": {
        "id": "oH9Y3usm-2B_",
        "colab_type": "code",
        "colab": {}
      },
      "source": [
        "pageveiw_gross_sample=clicks_gross_sample*pageview/clicks*2\n",
        "pageveiw_retention_sample=users_retention_sample*pageview/enroll*2\n",
        "pageveiw_net_sample=clicks_net_sample*pageview/clicks*2"
      ],
      "execution_count": null,
      "outputs": []
    },
    {
      "cell_type": "code",
      "metadata": {
        "id": "EHqlxFfe_GT2",
        "colab_type": "code",
        "colab": {
          "base_uri": "https://localhost:8080/",
          "height": 90
        },
        "outputId": "f155494b-e1cd-42b9-bcdc-c5bd029476d8"
      },
      "source": [
        "print('pageview needed for gross_conversion',pageveiw_gross_sample)\n",
        "print('pageview needed for retention',int(pageveiw_retention_sample))\n",
        "print('pageview needed for net_conversion',pageveiw_net_sample)"
      ],
      "execution_count": 213,
      "outputs": [
        {
          "output_type": "stream",
          "text": [
            "pageview needed for gross_conversion 645875.0\n",
            "pageview needed for retention 4741212\n",
            "pageview needed for net_conversion 685325.0\n"
          ],
          "name": "stdout"
        }
      ]
    },
    {
      "cell_type": "code",
      "metadata": {
        "id": "o-QFuvtT_cgu",
        "colab_type": "code",
        "colab": {}
      },
      "source": [
        "### Choosing Number of Samples given Power:\n",
        "\n",
        "# The maximum pageview numbers needed to cover all the three metrics is 4741212, however it will take too much time to collect such\n",
        "# big volume pagevies, so the next best number of pageview is 685325.0"
      ],
      "execution_count": null,
      "outputs": []
    },
    {
      "cell_type": "code",
      "metadata": {
        "id": "plM_8b-xAS1I",
        "colab_type": "code",
        "colab": {}
      },
      "source": [
        "### Choosing Duration vs. Exposure"
      ],
      "execution_count": null,
      "outputs": []
    },
    {
      "cell_type": "code",
      "metadata": {
        "id": "G38VAsuOBEas",
        "colab_type": "code",
        "colab": {}
      },
      "source": [
        "fraction = 1\n",
        "duration=685325/40000"
      ],
      "execution_count": 57,
      "outputs": []
    },
    {
      "cell_type": "code",
      "metadata": {
        "id": "5jSCMXOnKQ8O",
        "colab_type": "code",
        "colab": {
          "base_uri": "https://localhost:8080/",
          "height": 72
        },
        "outputId": "d88a47b5-549f-4a8a-aba7-049eddd97037"
      },
      "source": [
        "print('fraction of traffic devoted to experiment',fraction)\n",
        "print('days needed for collecting choosing pageview numbers',round(duration,0))"
      ],
      "execution_count": 58,
      "outputs": [
        {
          "output_type": "stream",
          "text": [
            "fraction of traffic devoted to experiment 1\n",
            "days needed for collecting choosing pageview numbers 17.0\n"
          ],
          "name": "stdout"
        }
      ]
    },
    {
      "cell_type": "code",
      "metadata": {
        "id": "nWJB3I9aBgV6",
        "colab_type": "code",
        "colab": {}
      },
      "source": [
        "### step4: sanity check "
      ],
      "execution_count": null,
      "outputs": []
    },
    {
      "cell_type": "code",
      "metadata": {
        "id": "rhi1p8TgBf2v",
        "colab_type": "code",
        "colab": {}
      },
      "source": [
        "control=pd.read_csv('/content/sample_data/Final Project Results（副本） - Control.csv')"
      ],
      "execution_count": 45,
      "outputs": []
    },
    {
      "cell_type": "code",
      "metadata": {
        "id": "NLt4P_BFEFP-",
        "colab_type": "code",
        "colab": {
          "base_uri": "https://localhost:8080/",
          "height": 228
        },
        "outputId": "4719fc1d-36e1-4773-8469-f79d9ba7951b"
      },
      "source": [
        "control.head()"
      ],
      "execution_count": 49,
      "outputs": [
        {
          "output_type": "execute_result",
          "data": {
            "text/html": [
              "<div>\n",
              "<style scoped>\n",
              "    .dataframe tbody tr th:only-of-type {\n",
              "        vertical-align: middle;\n",
              "    }\n",
              "\n",
              "    .dataframe tbody tr th {\n",
              "        vertical-align: top;\n",
              "    }\n",
              "\n",
              "    .dataframe thead th {\n",
              "        text-align: right;\n",
              "    }\n",
              "</style>\n",
              "<table border=\"1\" class=\"dataframe\">\n",
              "  <thead>\n",
              "    <tr style=\"text-align: right;\">\n",
              "      <th></th>\n",
              "      <th>Date</th>\n",
              "      <th>Pageviews</th>\n",
              "      <th>Clicks</th>\n",
              "      <th>Enrollments</th>\n",
              "      <th>Payments</th>\n",
              "    </tr>\n",
              "  </thead>\n",
              "  <tbody>\n",
              "    <tr>\n",
              "      <th>0</th>\n",
              "      <td>Sat, Oct 11</td>\n",
              "      <td>7723</td>\n",
              "      <td>687</td>\n",
              "      <td>134.0</td>\n",
              "      <td>70.0</td>\n",
              "    </tr>\n",
              "    <tr>\n",
              "      <th>1</th>\n",
              "      <td>Sun, Oct 12</td>\n",
              "      <td>9102</td>\n",
              "      <td>779</td>\n",
              "      <td>147.0</td>\n",
              "      <td>70.0</td>\n",
              "    </tr>\n",
              "    <tr>\n",
              "      <th>2</th>\n",
              "      <td>Mon, Oct 13</td>\n",
              "      <td>10511</td>\n",
              "      <td>909</td>\n",
              "      <td>167.0</td>\n",
              "      <td>95.0</td>\n",
              "    </tr>\n",
              "    <tr>\n",
              "      <th>3</th>\n",
              "      <td>Tue, Oct 14</td>\n",
              "      <td>9871</td>\n",
              "      <td>836</td>\n",
              "      <td>156.0</td>\n",
              "      <td>105.0</td>\n",
              "    </tr>\n",
              "    <tr>\n",
              "      <th>4</th>\n",
              "      <td>Wed, Oct 15</td>\n",
              "      <td>10014</td>\n",
              "      <td>837</td>\n",
              "      <td>163.0</td>\n",
              "      <td>64.0</td>\n",
              "    </tr>\n",
              "  </tbody>\n",
              "</table>\n",
              "</div>"
            ],
            "text/plain": [
              "          Date  Pageviews  Clicks  Enrollments  Payments\n",
              "0  Sat, Oct 11       7723     687        134.0      70.0\n",
              "1  Sun, Oct 12       9102     779        147.0      70.0\n",
              "2  Mon, Oct 13      10511     909        167.0      95.0\n",
              "3  Tue, Oct 14       9871     836        156.0     105.0\n",
              "4  Wed, Oct 15      10014     837        163.0      64.0"
            ]
          },
          "metadata": {
            "tags": []
          },
          "execution_count": 49
        }
      ]
    },
    {
      "cell_type": "code",
      "metadata": {
        "id": "joEEXhMLFYsf",
        "colab_type": "code",
        "colab": {
          "base_uri": "https://localhost:8080/",
          "height": 315
        },
        "outputId": "0c58fe7c-6b58-4e5c-9dc1-3fe087abfed8"
      },
      "source": [
        "sns.distplot(control['Pageviews'])\n",
        "plt.title('distribution of \"pageviews\"')\n",
        "plt.show()"
      ],
      "execution_count": 210,
      "outputs": [
        {
          "output_type": "display_data",
          "data": {
            "image/png": "[encoded data removed]",
            "text/plain": [
              "<Figure size 432x288 with 1 Axes>"
            ]
          },
          "metadata": {
            "tags": [],
            "needs_background": "light"
          }
        }
      ]
    },
    {
      "cell_type": "code",
      "metadata": {
        "id": "JiUGIIUrF0pD",
        "colab_type": "code",
        "colab": {
          "base_uri": "https://localhost:8080/",
          "height": 316
        },
        "outputId": "bb0312e5-8116-4d36-edbe-1416c6092d70"
      },
      "source": [
        "sns.distplot(control['Clicks'])"
      ],
      "execution_count": 200,
      "outputs": [
        {
          "output_type": "execute_result",
          "data": {
            "text/plain": [
              "<matplotlib.axes._subplots.AxesSubplot at 0x7fcc9239b668>"
            ]
          },
          "metadata": {
            "tags": []
          },
          "execution_count": 200
        },
        {
          "output_type": "display_data",
          "data": {
            "image/png": "[encoded data removed]",
            "text/plain": [
              "<Figure size 432x288 with 1 Axes>"
            ]
          },
          "metadata": {
            "tags": [],
            "needs_background": "light"
          }
        }
      ]
    },
    {
      "cell_type": "code",
      "metadata": {
        "id": "vXKOUmJWGWPw",
        "colab_type": "code",
        "colab": {
          "base_uri": "https://localhost:8080/",
          "height": 301
        },
        "outputId": "63a0348c-7509-43e2-a6b1-c3231dd208b9"
      },
      "source": [
        "sns.distplot(control['Payments']/control['Enrollments'])\n",
        "plt.title('distribution of \"retention_rate\"')\n",
        "plt.show()"
      ],
      "execution_count": 211,
      "outputs": [
        {
          "output_type": "display_data",
          "data": {
            "image/png": "[encoded data removed]",
            "text/plain": [
              "<Figure size 432x288 with 1 Axes>"
            ]
          },
          "metadata": {
            "tags": [],
            "needs_background": "light"
          }
        }
      ]
    },
    {
      "cell_type": "code",
      "metadata": {
        "id": "C6lZCOQWF43j",
        "colab_type": "code",
        "colab": {
          "base_uri": "https://localhost:8080/",
          "height": 303
        },
        "outputId": "c43d9e10-7323-439b-9ac9-4b2081803324"
      },
      "source": [
        "sns.distplot(control['Enrollments']/control[control['Enrollments'].notnull()]['Clicks'])"
      ],
      "execution_count": 203,
      "outputs": [
        {
          "output_type": "execute_result",
          "data": {
            "text/plain": [
              "<matplotlib.axes._subplots.AxesSubplot at 0x7fcc934c06a0>"
            ]
          },
          "metadata": {
            "tags": []
          },
          "execution_count": 203
        },
        {
          "output_type": "display_data",
          "data": {
            "image/png": "[encoded data removed]",
            "text/plain": [
              "<Figure size 432x288 with 1 Axes>"
            ]
          },
          "metadata": {
            "tags": [],
            "needs_background": "light"
          }
        }
      ]
    },
    {
      "cell_type": "code",
      "metadata": {
        "id": "_c5T-NajGEUH",
        "colab_type": "code",
        "colab": {
          "base_uri": "https://localhost:8080/",
          "height": 303
        },
        "outputId": "69294d0e-9318-465b-bd36-490ead7a04b7"
      },
      "source": [
        "sns.distplot(control['Payments']/control[control['Payments'].notnull()]['Clicks'])"
      ],
      "execution_count": 208,
      "outputs": [
        {
          "output_type": "execute_result",
          "data": {
            "text/plain": [
              "<matplotlib.axes._subplots.AxesSubplot at 0x7fcc91f177f0>"
            ]
          },
          "metadata": {
            "tags": []
          },
          "execution_count": 208
        },
        {
          "output_type": "display_data",
          "data": {
            "image/png": "[encoded data removed]",
            "text/plain": [
              "<Figure size 432x288 with 1 Axes>"
            ]
          },
          "metadata": {
            "tags": [],
            "needs_background": "light"
          }
        }
      ]
    },
    {
      "cell_type": "code",
      "metadata": {
        "id": "CHDP8OhzEuwU",
        "colab_type": "code",
        "colab": {}
      },
      "source": [
        "experiment=pd.read_csv('/content/sample_data/Final Project Results（副本） - Experiment.csv')"
      ],
      "execution_count": 50,
      "outputs": []
    },
    {
      "cell_type": "code",
      "metadata": {
        "id": "wuX0QWQHE0Ky",
        "colab_type": "code",
        "colab": {
          "base_uri": "https://localhost:8080/",
          "height": 228
        },
        "outputId": "ae65fadb-a266-4a00-b051-437c2b1eeb1e"
      },
      "source": [
        "experiment.head()"
      ],
      "execution_count": 51,
      "outputs": [
        {
          "output_type": "execute_result",
          "data": {
            "text/html": [
              "<div>\n",
              "<style scoped>\n",
              "    .dataframe tbody tr th:only-of-type {\n",
              "        vertical-align: middle;\n",
              "    }\n",
              "\n",
              "    .dataframe tbody tr th {\n",
              "        vertical-align: top;\n",
              "    }\n",
              "\n",
              "    .dataframe thead th {\n",
              "        text-align: right;\n",
              "    }\n",
              "</style>\n",
              "<table border=\"1\" class=\"dataframe\">\n",
              "  <thead>\n",
              "    <tr style=\"text-align: right;\">\n",
              "      <th></th>\n",
              "      <th>Date</th>\n",
              "      <th>Pageviews</th>\n",
              "      <th>Clicks</th>\n",
              "      <th>Enrollments</th>\n",
              "      <th>Payments</th>\n",
              "    </tr>\n",
              "  </thead>\n",
              "  <tbody>\n",
              "    <tr>\n",
              "      <th>0</th>\n",
              "      <td>Sat, Oct 11</td>\n",
              "      <td>7716</td>\n",
              "      <td>686</td>\n",
              "      <td>105.0</td>\n",
              "      <td>34.0</td>\n",
              "    </tr>\n",
              "    <tr>\n",
              "      <th>1</th>\n",
              "      <td>Sun, Oct 12</td>\n",
              "      <td>9288</td>\n",
              "      <td>785</td>\n",
              "      <td>116.0</td>\n",
              "      <td>91.0</td>\n",
              "    </tr>\n",
              "    <tr>\n",
              "      <th>2</th>\n",
              "      <td>Mon, Oct 13</td>\n",
              "      <td>10480</td>\n",
              "      <td>884</td>\n",
              "      <td>145.0</td>\n",
              "      <td>79.0</td>\n",
              "    </tr>\n",
              "    <tr>\n",
              "      <th>3</th>\n",
              "      <td>Tue, Oct 14</td>\n",
              "      <td>9867</td>\n",
              "      <td>827</td>\n",
              "      <td>138.0</td>\n",
              "      <td>92.0</td>\n",
              "    </tr>\n",
              "    <tr>\n",
              "      <th>4</th>\n",
              "      <td>Wed, Oct 15</td>\n",
              "      <td>9793</td>\n",
              "      <td>832</td>\n",
              "      <td>140.0</td>\n",
              "      <td>94.0</td>\n",
              "    </tr>\n",
              "  </tbody>\n",
              "</table>\n",
              "</div>"
            ],
            "text/plain": [
              "          Date  Pageviews  Clicks  Enrollments  Payments\n",
              "0  Sat, Oct 11       7716     686        105.0      34.0\n",
              "1  Sun, Oct 12       9288     785        116.0      91.0\n",
              "2  Mon, Oct 13      10480     884        145.0      79.0\n",
              "3  Tue, Oct 14       9867     827        138.0      92.0\n",
              "4  Wed, Oct 15       9793     832        140.0      94.0"
            ]
          },
          "metadata": {
            "tags": []
          },
          "execution_count": 51
        }
      ]
    },
    {
      "cell_type": "code",
      "metadata": {
        "id": "K54YMrPpF6Kp",
        "colab_type": "code",
        "colab": {}
      },
      "source": [
        "### sanity check of pageview and clicks of 'start free trial'"
      ],
      "execution_count": null,
      "outputs": []
    },
    {
      "cell_type": "code",
      "metadata": {
        "id": "Yx1FmAVXE2wN",
        "colab_type": "code",
        "colab": {}
      },
      "source": [
        "pageview_con=control['Pageviews'].sum()\n",
        "clicks_con=control['Clicks'].sum()"
      ],
      "execution_count": 64,
      "outputs": []
    },
    {
      "cell_type": "code",
      "metadata": {
        "id": "zXl4LPhhFaqR",
        "colab_type": "code",
        "colab": {}
      },
      "source": [
        "pageview_exp=experiment['Pageviews'].sum()\n",
        "clicks_exp=experiment['Clicks'].sum()"
      ],
      "execution_count": 65,
      "outputs": []
    },
    {
      "cell_type": "code",
      "metadata": {
        "id": "fLzO_hsyF5V3",
        "colab_type": "code",
        "colab": {}
      },
      "source": [
        "z_score=1.96 # 95% confidence level\n",
        "std_pageview=round(math.sqrt(0.5*(1-0.5)/(pageview_con+pageview_exp)),4)\n",
        "CI_pageview_up=0.5+std_pageview*z_score\n",
        "CI_pageview_low=0.5-std_pageview*z_score"
      ],
      "execution_count": 71,
      "outputs": []
    },
    {
      "cell_type": "code",
      "metadata": {
        "id": "deoZ2vD-K6C0",
        "colab_type": "code",
        "colab": {
          "base_uri": "https://localhost:8080/",
          "height": 108
        },
        "outputId": "edc02a28-2b94-4c46-935d-eb0204702bc3"
      },
      "source": [
        "print('probability of pagevies in control group', round(pageveiw_con/(pageveiw_con+pageveiw_exp),4))\n",
        "print('upper bound of pageview probability in control group', round(CI_pageview_up,4))\n",
        "print('lower bound of pageview probability in control group', round(CI_pageview_low,4))\n",
        "if round(pageveiw_con/(pageveiw_con+pageveiw_exp),4)>round(CI_pageview_low,4) and round(pageveiw_con/(pageveiw_con+pageveiw_exp),4)<round(CI_pageview_up,4):\n",
        "  print('sanity check of pageviews: pass')\n",
        "else:\n",
        "  print('sanity check of pageviews: failed')"
      ],
      "execution_count": 76,
      "outputs": [
        {
          "output_type": "stream",
          "text": [
            "probability of pagevies in control group 0.5006\n",
            "upper bound of pageview probability in control group 0.5012\n",
            "lower bound of pageview probability in control group 0.4988\n",
            "sanity check of pageviews: pass\n"
          ],
          "name": "stdout"
        }
      ]
    },
    {
      "cell_type": "code",
      "metadata": {
        "id": "Yw2XIRr-K93i",
        "colab_type": "code",
        "colab": {}
      },
      "source": [
        "std_clicks=round(math.sqrt(0.5*(1-0.5)/(clicks_con+clicks_exp)),4)\n",
        "CI_clicks_up=0.5+std_clicks*z_score\n",
        "CI_clicks_low=0.5-std_clicks*z_score"
      ],
      "execution_count": 77,
      "outputs": []
    },
    {
      "cell_type": "code",
      "metadata": {
        "id": "u6S6g-_4NEji",
        "colab_type": "code",
        "colab": {
          "base_uri": "https://localhost:8080/",
          "height": 108
        },
        "outputId": "d7e1a632-dd09-460c-82ee-bbfb8f77f224"
      },
      "source": [
        "print('probability of clicks in control group', round(clicks_con/(clicks_con+clicks_exp),4))\n",
        "print('upper bound of clicks probability in control group', round(CI_clicks_up,4))\n",
        "print('lower bound of clicks probability in control group', round(CI_clicks_low,4))\n",
        "if round(clicks_con/(clicks_con+clicks_exp),4)>round(CI_clicks_low,4) and round(clicks_con/(clicks_con+clicks_exp),4)<round(CI_clicks_up,4):\n",
        "  print('sanity check of clicks: pass')\n",
        "else:\n",
        "  print('sanity check of clicks: failed')"
      ],
      "execution_count": 80,
      "outputs": [
        {
          "output_type": "stream",
          "text": [
            "probability of clicks in control group 0.5005\n",
            "upper bound of clicks probability in control group 0.5041\n",
            "lower bound of clicks probability in control group 0.4959\n",
            "sanity check of clicks: pass\n"
          ],
          "name": "stdout"
        }
      ]
    },
    {
      "cell_type": "code",
      "metadata": {
        "id": "fvUcTKxoR1I2",
        "colab_type": "code",
        "colab": {}
      },
      "source": [
        "### sanity check of click through probability"
      ],
      "execution_count": 102,
      "outputs": []
    },
    {
      "cell_type": "code",
      "metadata": {
        "id": "NoZNsfWANqsw",
        "colab_type": "code",
        "colab": {}
      },
      "source": [
        "d_hat_ctp=round(clicks_exp/pageview_exp-clicks_con/pageview_con,4)\n",
        "p_pool_ctp=(clicks_con+clicks_exp)/(pageveiw_con+pageveiw_exp)\n",
        "se_ctp=math.sqrt(p_pool_ctp*(1-p_pool_ctp)*(1/pageveiw_con+1/pageveiw_exp))\n",
        "CI_ctp_up=0+se_ctp*z_score\n",
        "CI_ctp_low=0-se_ctp*z_score"
      ],
      "execution_count": 99,
      "outputs": []
    },
    {
      "cell_type": "code",
      "metadata": {
        "id": "D8ZWuqgkP8Sb",
        "colab_type": "code",
        "colab": {
          "base_uri": "https://localhost:8080/",
          "height": 108
        },
        "outputId": "e6b2e578-da9a-411d-f958-ef2f656ae820"
      },
      "source": [
        "print('difference of ctp between control group and experiment group', d_hat_ctp)\n",
        "print('upper bound of confidence interval', round(CI_ctp_up,4))\n",
        "print('lower bound of confidence interval', round(CI_ctp_low,4))\n",
        "if d_hat_ctp >round(CI_ctp_low,4) and d_hat_ctp<round(CI_ctp_up,4):\n",
        "  print('sanity check of click through probability: pass')\n",
        "else:\n",
        "  print('sanity check of click through probability: failed')"
      ],
      "execution_count": 143,
      "outputs": [
        {
          "output_type": "stream",
          "text": [
            "difference of ctp between control group and experiment group 0.0001\n",
            "upper bound of confidence interval 0.0013\n",
            "lower bound of confidence interval -0.0013\n",
            "sanity check of click through probability: pass\n"
          ],
          "name": "stdout"
        }
      ]
    },
    {
      "cell_type": "code",
      "metadata": {
        "id": "Y2wMXaWvRD4N",
        "colab_type": "code",
        "colab": {}
      },
      "source": [
        "### step5: effect size test"
      ],
      "execution_count": 103,
      "outputs": []
    },
    {
      "cell_type": "code",
      "metadata": {
        "id": "mqZ3hZBuSNLn",
        "colab_type": "code",
        "colab": {}
      },
      "source": [
        "### test of gross_conversion"
      ],
      "execution_count": null,
      "outputs": []
    },
    {
      "cell_type": "code",
      "metadata": {
        "id": "g63eLFpqubzl",
        "colab_type": "code",
        "colab": {
          "base_uri": "https://localhost:8080/",
          "height": 55
        },
        "outputId": "5a3ace78-38e3-4fd8-9ae1-8b4089136a15"
      },
      "source": [
        "control['Enrollments'].notnull().sum()"
      ],
      "execution_count": 133,
      "outputs": [
        {
          "output_type": "execute_result",
          "data": {
            "text/plain": [
              "23"
            ]
          },
          "metadata": {
            "tags": []
          },
          "execution_count": 133
        }
      ]
    },
    {
      "cell_type": "code",
      "metadata": {
        "id": "JLjHHyZbuMQ4",
        "colab_type": "code",
        "colab": {
          "base_uri": "https://localhost:8080/",
          "height": 460
        },
        "outputId": "fe110070-08b4-4d41-f126-304c5e6597be"
      },
      "source": [
        "control[control['Enrollments'].notnull()]['Date']"
      ],
      "execution_count": 108,
      "outputs": [
        {
          "output_type": "execute_result",
          "data": {
            "text/plain": [
              "0     Sat, Oct 11\n",
              "1     Sun, Oct 12\n",
              "2     Mon, Oct 13\n",
              "3     Tue, Oct 14\n",
              "4     Wed, Oct 15\n",
              "5     Thu, Oct 16\n",
              "6     Fri, Oct 17\n",
              "7     Sat, Oct 18\n",
              "8     Sun, Oct 19\n",
              "9     Mon, Oct 20\n",
              "10    Tue, Oct 21\n",
              "11    Wed, Oct 22\n",
              "12    Thu, Oct 23\n",
              "13    Fri, Oct 24\n",
              "14    Sat, Oct 25\n",
              "15    Sun, Oct 26\n",
              "16    Mon, Oct 27\n",
              "17    Tue, Oct 28\n",
              "18    Wed, Oct 29\n",
              "19    Thu, Oct 30\n",
              "20    Fri, Oct 31\n",
              "21     Sat, Nov 1\n",
              "22     Sun, Nov 2\n",
              "Name: Date, dtype: object"
            ]
          },
          "metadata": {
            "tags": []
          },
          "execution_count": 108
        }
      ]
    },
    {
      "cell_type": "code",
      "metadata": {
        "id": "UwzDTbIoSVo2",
        "colab_type": "code",
        "colab": {}
      },
      "source": [
        "# because the data of enrollment and payment only covers data from Oct-11 to Nov-2, \n",
        "# when caculating effect size test, we also only caculate clicks in this time span"
      ],
      "execution_count": null,
      "outputs": []
    },
    {
      "cell_type": "code",
      "metadata": {
        "id": "Wxs-FeQcuGfz",
        "colab_type": "code",
        "colab": {}
      },
      "source": [
        "clicks_con2=control[control['Enrollments'].notnull()]['Clicks'].sum()\n",
        "clicks_exp2=experiment[experiment['Enrollments'].notnull()]['Clicks'].sum()\n",
        "enroll_con=control['Enrollments'].sum()\n",
        "enroll_exp=experiment['Enrollments'].sum()"
      ],
      "execution_count": 123,
      "outputs": []
    },
    {
      "cell_type": "code",
      "metadata": {
        "id": "wDWPYyEXSSCj",
        "colab_type": "code",
        "colab": {}
      },
      "source": [
        "d_min_gross=0.01\n",
        "d_hat_gross=enroll_exp/clicks_exp2-enroll_con/clicks_con2\n",
        "p_pool_gross=(enroll_con+enroll_exp)/(clicks_con2+clicks_exp2)\n",
        "se_pool_gross=math.sqrt(p_pool_gross*(1-p_pool_gross)*(1/clicks_exp2+1/clicks_con2))\n",
        "CI_gross_conversion_up=d_hat_gross+se_pool_gross*z_score\n",
        "CI_gross_conversion_low=d_hat_gross-se_pool_gross*z_score"
      ],
      "execution_count": 130,
      "outputs": []
    },
    {
      "cell_type": "code",
      "metadata": {
        "id": "4qO9Oa4GwbRM",
        "colab_type": "code",
        "colab": {
          "base_uri": "https://localhost:8080/",
          "height": 125
        },
        "outputId": "12cd651d-fa58-4283-c97e-df5384b5401c"
      },
      "source": [
        "print('difference of gross_conversion between control group and experiment group:', d_hat_gross)\n",
        "print('upper bound of gross_conversion confidence interval:', round(CI_gross_conversion_up,4))\n",
        "print('lower bound of gross_conversion confidence interval:', round(CI_gross_conversion_low,4))\n",
        "if 0 >round(CI_gross_conversion_up,4) or 0<round(CI_gross_conversion_low,4):\n",
        "  print('CI did not include 0,change of gross_conversion stastistic significant: True')\n",
        "else:\n",
        "  print('CI did includes 0, change of gross_conversion stastistic significant: False')\n",
        "\n",
        "if round(CI_gross_conversion_up,4)>d_min_retention and d_min_retention > round(CI_gross_conversion_low,4):\n",
        "  print('CI includes d_min_retention,change of gross_conversion practical significant: False')\n",
        "else:\n",
        "  print('CI did includes d_min_gross, change of gross_conversion practical significant: True')\n"
      ],
      "execution_count": 189,
      "outputs": [
        {
          "output_type": "stream",
          "text": [
            "difference of gross_conversion between control group and experiment group: -0.020554874580361565\n",
            "upper bound of gross_conversion confidence interval: -0.012\n",
            "lower bound of gross_conversion confidence interval: -0.0291\n",
            "CI did not include 0,change of gross_conversion stastistic significant: True\n",
            "CI did includes d_min_gross, change of gross_conversion practical significant: True\n"
          ],
          "name": "stdout"
        }
      ]
    },
    {
      "cell_type": "code",
      "metadata": {
        "id": "yM0PzwPTzNjv",
        "colab_type": "code",
        "colab": {}
      },
      "source": [
        "### test of retention rate"
      ],
      "execution_count": null,
      "outputs": []
    },
    {
      "cell_type": "code",
      "metadata": {
        "id": "sViskwTy0iGR",
        "colab_type": "code",
        "colab": {}
      },
      "source": [
        "payment_con=control['Payments'].sum()\n",
        "payment_exp=experiment['Payments'].sum()"
      ],
      "execution_count": 136,
      "outputs": []
    },
    {
      "cell_type": "code",
      "metadata": {
        "id": "vY_xLaWT0h_A",
        "colab_type": "code",
        "colab": {}
      },
      "source": [
        "d_min_retention=0.01\n",
        "d_hat_retention=payment_exp/enroll_exp-payment_con/enroll_con\n",
        "p_pool_retention=(payment_con+payment_exp)/(enroll_exp+enroll_con)\n",
        "se_pool_retention=math.sqrt(p_pool_retention*(1-p_pool_retention)*(1/enroll_con+1/enroll_exp))\n",
        "CI_retention_up=d_hat_retention+se_pool_retention*z_score\n",
        "CI_retention_low=d_hat_retention-se_pool_retention*z_score"
      ],
      "execution_count": 137,
      "outputs": []
    },
    {
      "cell_type": "code",
      "metadata": {
        "id": "rOvAIZSx0huf",
        "colab_type": "code",
        "colab": {
          "base_uri": "https://localhost:8080/",
          "height": 125
        },
        "outputId": "682e4e6b-a8e2-49ad-f883-755114abb989"
      },
      "source": [
        "print('difference of retention between control group and experiment group:', d_hat_retention)\n",
        "print('upper bound of retention difference confidence interval:', round(CI_retention_up,4))\n",
        "print('lower bound of retention difference confidence interval:', round(CI_retention_low,4))\n",
        "if 0 >round(CI_retention_up,4) or 0<round(CI_retention_low,4):\n",
        "  print('CI did not include 0,change of retention stastistic significant: True')\n",
        "else:\n",
        "  print('CI did includes 0, change of retention stastistic significant: False')\n",
        "\n",
        "if round(CI_retention_up,4)>d_min_retention or d_min_retention<abs(round(CI_retention_down,4)):\n",
        "  print('CI includes d_min_retention,change of gross_conversion practical significant: False')\n",
        "else:\n",
        "  print('CI did includes d_min_retention, change of gross_conversion practical significant: True')"
      ],
      "execution_count": 185,
      "outputs": [
        {
          "output_type": "stream",
          "text": [
            "difference of retention between control group and experiment group: 0.031094804707142765\n",
            "upper bound of retention difference confidence interval: 0.0541\n",
            "lower bound of retention difference confidence interval: 0.0081\n",
            "CI did not include 0,change of retention stastistic significant: True\n",
            "CI includes d_min_retention,change of gross_conversion practical significant: False\n"
          ],
          "name": "stdout"
        }
      ]
    },
    {
      "cell_type": "code",
      "metadata": {
        "id": "TlW-aDX00hlt",
        "colab_type": "code",
        "colab": {}
      },
      "source": [
        "### test of net conversion"
      ],
      "execution_count": null,
      "outputs": []
    },
    {
      "cell_type": "code",
      "metadata": {
        "id": "nsa60cZF3fOC",
        "colab_type": "code",
        "colab": {}
      },
      "source": [
        "d_min_net=0.0075\n",
        "d_hat_net=payment_exp/clicks_exp2-payment_con/clicks_con2\n",
        "p_pool_net=(payment_con+payment_exp)/(clicks_exp2+clicks_con2)\n",
        "se_pool_net=math.sqrt(p_pool_net*(1-p_pool_net)*(1/clicks_con2+1/clicks_exp2))\n",
        "CI_net_up=d_hat_net+abs(se_pool_net)*z_score\n",
        "CI_net_low=d_hat_net-abs(se_pool_net)*z_score"
      ],
      "execution_count": 151,
      "outputs": []
    },
    {
      "cell_type": "code",
      "metadata": {
        "id": "4JabTcGX41gj",
        "colab_type": "code",
        "colab": {
          "base_uri": "https://localhost:8080/",
          "height": 125
        },
        "outputId": "c5962f47-d0db-43c7-d434-a84280557b97"
      },
      "source": [
        "print('difference of net_conversion between control group and experiment group:', d_hat_net)\n",
        "print('upper bound of net_conversion confidence interval:', round(CI_retention_up,4))\n",
        "print('lower bound of net_conversion confidence interval:', round(CI_retention_low,4))\n",
        "if 0 >round(CI_net_up,4) or 0<round(CI_net_low,4):\n",
        "  print('CI did not include 0,change of net_conversion stastistic significant: True')\n",
        "else:\n",
        "  print('CI did includes 0, change of net_conversion stastistic significant: False')\n",
        "\n",
        "if round(CI_net_up,4)>d_min_net or -d_min_net<round(CI_net_low,4):\n",
        "  print('CI includes d_min_retention,change of net_conversion practical significant: True')\n",
        "else:\n",
        "  print('CI did includes d_min_retention, change of net_conversion practical significant: False')"
      ],
      "execution_count": 178,
      "outputs": [
        {
          "output_type": "stream",
          "text": [
            "difference of net_conversion between control group and experiment group: -0.0048737226745441675\n",
            "upper bound of net_conversion confidence interval: 0.0541\n",
            "lower bound of net_conversion confidence interval: 0.0081\n",
            "CI did includes 0, change of net_conversion stastistic significant: False\n",
            "CI did includes d_min_retention, change of net_conversion practical significant: False\n"
          ],
          "name": "stdout"
        }
      ]
    },
    {
      "cell_type": "code",
      "metadata": {
        "id": "9BOL6nenGc9g",
        "colab_type": "code",
        "colab": {}
      },
      "source": [
        "### step6: sign test"
      ],
      "execution_count": null,
      "outputs": []
    },
    {
      "cell_type": "code",
      "metadata": {
        "id": "6W251Bg9C0lA",
        "colab_type": "code",
        "colab": {
          "base_uri": "https://localhost:8080/",
          "height": 55
        },
        "outputId": "8c8a9cef-e0ec-4b34-ed1d-7e30437af298"
      },
      "source": [
        "from scipy.stats import binom_test \n",
        "\"\"\"gross_conversion\"\"\"\n",
        "\n",
        "alpha=0.05\n",
        "beta=0.2\n",
        "\n",
        "gc_exp=[i/j for i,j in zip(experiment['Enrollments'].to_list(),experiment['Clicks'].to_list())]\n",
        "gc_cont=[i/j for i,j in zip(control['Enrollments'].to_list(),control['Clicks'].to_list())]\n",
        "gc_diff=sum([i>j for i,j in zip(gc_exp,gc_cont)])\n",
        "days=len(gc_exp)\n",
        "\n",
        "# The prob of gross conversion of experiment group > gross conversion of control group is 0.5\n",
        "p_value=binom_test(gc_diff, n=days, p=0.5)\n",
        "print(\"p-value:\",p_value,\", Statistically Significant:\",p_value<alpha)"
      ],
      "execution_count": 205,
      "outputs": [
        {
          "output_type": "stream",
          "text": [
            "p-value: 1.0843941709026694e-06 , Statistically Significant: True\n"
          ],
          "name": "stdout"
        }
      ]
    },
    {
      "cell_type": "code",
      "metadata": {
        "id": "52kg6c2DGhan",
        "colab_type": "code",
        "colab": {
          "base_uri": "https://localhost:8080/",
          "height": 55
        },
        "outputId": "1497ffb9-13ee-487d-acba-105fb08b2e8a"
      },
      "source": [
        "\"\"\"retention\"\"\"\n",
        "rt_exp=[i/j for i,j in zip(experiment['Payments'].to_list(),experiment['Enrollments'].to_list())]\n",
        "rt_cont=[i/j for i,j in zip(control['Payments'].to_list(),control['Enrollments'].to_list())]\n",
        "rt_diff=sum([i>j for i,j in zip(rt_exp,rt_cont)])\n",
        "days=len(rt_exp)\n",
        "p_value=binom_test(rt_diff, n=days, p=0.5)\n",
        "print(\"p-value:\",p_value,\", Statistically Significant:\",p_value<alpha)"
      ],
      "execution_count": 206,
      "outputs": [
        {
          "output_type": "stream",
          "text": [
            "p-value: 0.09887174959294497 , Statistically Significant: False\n"
          ],
          "name": "stdout"
        }
      ]
    },
    {
      "cell_type": "code",
      "metadata": {
        "id": "rtqBw5j1HWiA",
        "colab_type": "code",
        "colab": {
          "base_uri": "https://localhost:8080/",
          "height": 55
        },
        "outputId": "3215135e-d4f8-4011-dd3d-74b56b57d8f1"
      },
      "source": [
        "\"\"\"net conversion\"\"\"\n",
        "nc_exp=[i/j for i,j in zip(experiment['Payments'].to_list(),experiment['Clicks'].to_list())]\n",
        "nc_cont=[i/j for i,j in zip(control['Payments'].to_list(),control['Clicks'].to_list())]\n",
        "nc_diff=sum([i>j for i,j in zip(nc_exp,nc_cont)])\n",
        "days=len(nc_exp)\n",
        "p_value=binom_test(nc_diff, n=days, p=0.5)\n",
        "print(\"p-value:\",p_value,\", Statistically Significant:\",p_value<alpha)\n"
      ],
      "execution_count": 207,
      "outputs": [
        {
          "output_type": "stream",
          "text": [
            "p-value: 0.007632078602910038 , Statistically Significant: True\n"
          ],
          "name": "stdout"
        }
      ]
    }
  ]
}